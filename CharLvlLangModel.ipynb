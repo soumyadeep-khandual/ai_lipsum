{
 "cells": [
  {
   "cell_type": "code",
   "execution_count": 1,
   "id": "01584a70-12e1-417e-883e-d38e0e1cf16a",
   "metadata": {},
   "outputs": [],
   "source": [
    "import nptorch as nt\n",
    "import numpy as np\n",
    "import pandas as pd\n",
    "import pickle\n",
    "# import torch\n",
    "from sklearn.model_selection import train_test_split\n",
    "import matplotlib.pyplot as plt\n",
    "from tqdm.auto import tqdm"
   ]
  },
  {
   "cell_type": "code",
   "execution_count": 2,
   "id": "309413ea-2863-4be7-a356-7fc3b98bb036",
   "metadata": {},
   "outputs": [
    {
     "data": {
      "text/plain": [
       "['emma', 'olivia', 'ava']"
      ]
     },
     "execution_count": 2,
     "metadata": {},
     "output_type": "execute_result"
    }
   ],
   "source": [
    "stoi = {chr(97 + i): i + 1 for i in range(26)}\n",
    "stoi[\".\"] = 0\n",
    "itos = {stoi[key]: key for key in stoi}\n",
    "\n",
    "with open(\"names.txt\", \"r\") as f:\n",
    "    names = f.read().splitlines()\n",
    "\n",
    "names[:3]"
   ]
  },
  {
   "cell_type": "code",
   "execution_count": 3,
   "id": "fcd92c77-1848-487b-969b-90e93893011e",
   "metadata": {},
   "outputs": [
    {
     "data": {
      "text/plain": [
       "((228146, 8), (228146, 1))"
      ]
     },
     "execution_count": 3,
     "metadata": {},
     "output_type": "execute_result"
    }
   ],
   "source": [
    "def namesenc(names=names, stoi=stoi, block_size=5):\n",
    "    X = np.zeros((1, block_size))\n",
    "    y = np.zeros(1)\n",
    "    for name in tqdm(names):\n",
    "        name_i = np.zeros(block_size)\n",
    "        for letter in name:\n",
    "            name_i = np.append(name_i, stoi[letter])\n",
    "        xi = np.lib.stride_tricks.sliding_window_view(name_i, block_size)\n",
    "        name_i = np.append(name_i, 0)\n",
    "        X = np.concatenate((X, xi))\n",
    "        y = np.concatenate((y, name_i[block_size:]))\n",
    "    return X[1:], y[1:].reshape(-1, 1)\n",
    "\n",
    "# X, y = namesenc(names=names, stoi=stoi, block_size=8)\n",
    "import pickle\n",
    "\n",
    "# with open(\"X_data.pkl\", \"wb\") as file:\n",
    "#     pickle.dump(X, file)\n",
    "# with open(\"y_data.pkl\", \"wb\") as file:\n",
    "#     pickle.dump(y, file)\n",
    "\n",
    "with open(\"X_data.pkl\", \"rb\") as file:\n",
    "    X = pickle.load(file)\n",
    "with open(\"y_data.pkl\", \"rb\") as file:\n",
    "    y = pickle.load(file)\n",
    "\n",
    "X.shape, y.shape"
   ]
  },
  {
   "cell_type": "code",
   "execution_count": 4,
   "id": "1a863e01-794e-4738-a5e2-6e00df139f33",
   "metadata": {},
   "outputs": [],
   "source": [
    "X_train,X_test,y_train,y_test = train_test_split(X.astype(np.int64), y.reshape(-1,).astype(np.int64), test_size=0.30, random_state=42,stratify=y.reshape(-1,).astype(np.int64), shuffle=True)"
   ]
  },
  {
   "cell_type": "code",
   "execution_count": 35,
   "id": "5a5e59eb-deb8-4381-8920-321924fc9119",
   "metadata": {},
   "outputs": [],
   "source": [
    "n_embd = 24 # the dimensionality of the character embedding vectors\n",
    "n_hidden = 128 # the number of neurons in the hidden layer of the MLP\n",
    "vocab_size = 27\n",
    "block_size = 8\n",
    "model = nt.Sequential([\n",
    "  nt.Embedding(vocab_size, n_embd),\n",
    "nt.Reshape((-1,n_embd*block_size)),\n",
    "  # nt.FlattenConsecutive(2), nt.Linear(n_embd * 2, n_hidden, scale= n_embd**0.5, bias=False), nt.LayerNorm((block_size//2,n_hidden)), \n",
    "  #   nt.ReLU(),\n",
    "  # nt.FlattenConsecutive(2), nt.Linear(n_hidden * 2, n_hidden, scale= n_hidden**0.5, bias=False), nt.LayerNorm((block_size//4,n_hidden)), \n",
    "  #   nt.ReLU(),\n",
    "  # nt.FlattenConsecutive(2), nt.Linear(n_hidden * 2, n_hidden, scale= n_hidden**0.5, bias=False), nt.LayerNorm(n_hidden), \n",
    "  #   nt.ReLU(),\n",
    "  nt.Linear(n_embd*block_size, n_hidden, bias=True), #nt.LayerNorm(n_hidden), \n",
    "    nt.Sigmoid(),\n",
    "  nt.Linear(n_hidden, n_hidden,bias=True), #nt.LayerNorm(n_hidden), \n",
    "    nt.Sigmoid(),\n",
    "  nt.Linear(n_hidden, vocab_size),\n",
    "])"
   ]
  },
  {
   "cell_type": "code",
   "execution_count": 36,
   "id": "24dd044f-75c5-4d28-a1e9-4f72c2058e81",
   "metadata": {},
   "outputs": [
    {
     "data": {
      "application/vnd.jupyter.widget-view+json": {
       "model_id": "9eb333f595914172a1a3098e757d2d43",
       "version_major": 2,
       "version_minor": 0
      },
      "text/plain": [
       "  0%|          | 0/20000 [00:00<?, ? Epochs/s]"
      ]
     },
     "metadata": {},
     "output_type": "display_data"
    }
   ],
   "source": [
    "lr = 0.1\n",
    "alpha = 0.01\n",
    "n_epochs = 20000\n",
    "batch_size = 32\n",
    "update_epoch = n_epochs // 100\n",
    "pbar = tqdm(range(n_epochs), unit=\" Epochs\", miniters=update_epoch)\n",
    "len_X_train = X_train.shape[0]\n",
    "\n",
    "lossi = []\n",
    "for epoch in pbar:\n",
    "    idx = np.random.randint(0, len_X_train, (batch_size,))\n",
    "    y_pred = model(nt.Autograd(X_train[idx]))\n",
    "    loss = y_pred.CEsparceY(y_train[idx])\n",
    "    \n",
    "    # for parameter in model.parameters():\n",
    "    #     loss += alpha*(parameter**2).sum()/parameter.data.size\n",
    "    \n",
    "    loss.zero_grad()\n",
    "    loss.backward()\n",
    "    lossi.append(loss.data)\n",
    "    \n",
    "    \n",
    "    for parameter in model.parameters():\n",
    "        parameter.data -= lr * parameter.grad\n",
    "    \n",
    "    if epoch % update_epoch ==0 :\n",
    "        pbar.set_description(f\"Loss:{loss.data:.4f}\")\n",
    "\n",
    "# model.train_mode(False)\n",
    "# y_pred = model(X_test)\n",
    "# loss = y_pred.CEsparceY(y_test)\n",
    "# accuracy = (\n",
    "#     y_pred.data.argmax(axis=1) == y_test\n",
    "# ).sum() / X_test.shape[0]\n",
    "# print(f\"Test (Accuracy : {accuracy*100:.2f} Loss : {loss.data:.6f})\")\n",
    "# model.train_mode(True)"
   ]
  },
  {
   "cell_type": "code",
   "execution_count": 37,
   "id": "904aaf4b-9818-47ba-adcd-fd078479f744",
   "metadata": {},
   "outputs": [
    {
     "data": {
      "image/png": "[encoded data removed]",
      "text/plain": [
       "<Figure size 640x480 with 1 Axes>"
      ]
     },
     "metadata": {},
     "output_type": "display_data"
    }
   ],
   "source": [
    "pd.Series(lossi[:])\\\n",
    "    .rolling(100).mean().dropna()\\\n",
    "    .plot(\n",
    "        xlabel=\"Epochs\",\n",
    "        ylabel=\"Minibatch Loss Trend\",\n",
    "    ).ticklabel_format(\n",
    "        axis='both', \n",
    "        style='sci',\n",
    "        scilimits=(0,0),\n",
    "        useMathText=True,\n",
    "    )\n",
    "plt.show()"
   ]
  },
  {
   "cell_type": "code",
   "execution_count": 38,
   "id": "951c91fd-fded-42a8-b39c-2be4f7cfd435",
   "metadata": {},
   "outputs": [
    {
     "name": "stdout",
     "output_type": "stream",
     "text": [
      "['torinhag', 'aryina', 'arrar', 'caylr', 'koaree', 'zayrel', 'naudonah', 'khalaaha', 'avystr', 'afrela', 'qrahil', 'amemaa', 'omilyys', 'jaala', 'alan', 'jolmyle', 'carennyv', 'dsresoa', 'zecle', 'kanas', 'raryc', 'amwins', 'nailar', 'rhuix', 'brablens', 'lukin', 'elyohranutse', 'maerlae', 'prlot', 'tren', 'zaletha', 'sayva', 'aheerahur', 'navima', 'amurles', 'mavaii', 'hasamar', 'kaohanl', 'khral', 'xymaenaers', 'namirihi', 'koleld', 'arelyanisad', 'darara', 'emer', 'kallan', 'jarelia', 'yhosd', 'jaylun', 'davon', 'ekise', 'arraare', 'lurrii', 'makrara', 'amma', 'cunayaa', 'monnolat', 'nala', 'keady', 'horlen', 'jaria', 'allaner', 'kaldanhaa', 'hajann', 'ryilo', 'canlar', 'destair', 'kzejahh', 'zalaha', 'kentoky', 'hevaah', 'ralan', 'uuleni', 'elaana', 'jaannt', 'whymea', 'shorman', 'imetsa', 'aymal', 'dmal', 'rarkar', 'kermoe', 'nadlie', 'chanora', 'maysan', 'anseugm', 'amaxa', 'daraa', 'arinra', 'ayqtiia', 'leshrnl', 'toivore', 'kehrise', 'joniamy', 'narersr', 'kerrylel', 'cyrmen', 'carvel', 'larsin', 'ktazanaira']\n"
     ]
    }
   ],
   "source": [
    "names=[]\n",
    "for _ in range(100):\n",
    "    name=\"........\"\n",
    "    pred=28\n",
    "    while pred != 0:\n",
    "        model.train_mode(False)\n",
    "        y_pred = model(np.array([stoi[letter] for letter in name][-8:]).reshape(1,-1)).softmax().data.reshape(27)\n",
    "        pred = np.random.multinomial(1,y_pred).argmax()\n",
    "        # pred = np.random.multinomial(1,[1/27 for i in range(27)]).argmax()\n",
    "        pred_letter=itos[pred]\n",
    "        name += str(pred_letter)\n",
    "        model.train_mode(True)\n",
    "\n",
    "    names.append(name[8:-1])\n",
    "print(names)"
   ]
  },
  {
   "cell_type": "code",
   "execution_count": null,
   "id": "feb60191-df0f-4c06-accc-ffc30b3c7c2d",
   "metadata": {},
   "outputs": [],
   "source": []
  }
 ],
 "metadata": {
  "kernelspec": {
   "display_name": "dev",
   "language": "python",
   "name": "dev"
  },
  "language_info": {
   "codemirror_mode": {
    "name": "ipython",
    "version": 3
   },
   "file_extension": ".py",
   "mimetype": "text/x-python",
   "name": "python",
   "nbconvert_exporter": "python",
   "pygments_lexer": "ipython3",
   "version": "3.10.9"
  }
 },
 "nbformat": 4,
 "nbformat_minor": 5
}
